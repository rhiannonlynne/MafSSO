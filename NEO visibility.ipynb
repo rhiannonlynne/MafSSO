{
 "cells": [
  {
   "cell_type": "markdown",
   "metadata": {},
   "source": [
    "Whether or not we need 2, 3, or more detections of a moving object within a single night depends on many things, including compute resources and whether or not we must know with a high level of reliability that objects detected on a single night are real. If we leave the compute resources question aside (this is best answered by looking at MOPS performance as a whole, including difference imaging, and the computing environment for LSST), then the question becomes \"does the presence of false tracklets create a scientific problem?\" (more specifically, for NEOs). \n",
    "\n",
    "False tracklets create a problem if we must reliably report the presence of NEOs or other SSOs after only one night of observing the objects, so that other telescope resources can be deployed for followup (radar? IR? more dense observations for a better orbit? lightcurve? colors?) on a timescale shorter than nominal time to do self-followup, creating an orbit from three separate nights of observations. \n",
    "\n",
    "As a starting point, we can look at \n",
    " - what fraction of the population gets brighter than X for one/two/etc days but not longer (and not long enough for us to see them at 15/30 days)? \n",
    " - what is the distribution of windows of time an NEO of various H magnitudes is typically available (brighter than X in r band)\n",
    " - how long are NEOs or other SSOs available after our 15/30 day window for other followup? \n",
    " - what is the orbital accuracy / ephemeris uncertainty after our 15/30 day window (this is best addressed by looking at tracks from MOPS)\n",
    "\n",
    "If the NEOs are available for long enough after our 15/30 day window for additional followup, then followup does not have to occur after a single night of observations and waiting for the more reliable 'orbits' is acceptable. If only a very small fraction are only available for less than our window, then we do not have to reliably detect these objects in order to reach 90% completeness. "
   ]
  },
  {
   "cell_type": "code",
   "execution_count": 1,
   "metadata": {
    "collapsed": false
   },
   "outputs": [],
   "source": [
    "import numpy as np\n",
    "import matplotlib.pyplot as plt\n",
    "%matplotlib inline\n",
    "import pandas as pd\n",
    "import pyoorb as oo"
   ]
  },
  {
   "cell_type": "markdown",
   "metadata": {
    "collapsed": true
   },
   "source": [
    "Read a set of NEO orbits. "
   ]
  }
 ],
 "metadata": {
  "kernelspec": {
   "display_name": "Python 2",
   "language": "python",
   "name": "python2"
  },
  "language_info": {
   "codemirror_mode": {
    "name": "ipython",
    "version": 2
   },
   "file_extension": ".py",
   "mimetype": "text/x-python",
   "name": "python",
   "nbconvert_exporter": "python",
   "pygments_lexer": "ipython2",
   "version": "2.7.9"
  }
 },
 "nbformat": 4,
 "nbformat_minor": 0
}
