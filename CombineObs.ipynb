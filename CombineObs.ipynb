{
 "cells": [
  {
   "cell_type": "code",
   "execution_count": 36,
   "metadata": {
    "collapsed": false
   },
   "outputs": [],
   "source": [
    "import os\n",
    "import numpy as np\n",
    "import lsst.sims.maf.db as db"
   ]
  },
  {
   "cell_type": "code",
   "execution_count": 119,
   "metadata": {
    "collapsed": false
   },
   "outputs": [],
   "source": [
    "# connect to database and grab the needed columns from the summary table, without duplicates.\n",
    "#runName = 'kraken_1040'\n",
    "runName = 'aws1_1001'\n",
    "dbDir = 'db'\n",
    "opsdb = db.OpsimDatabase(os.path.join(dbDir, runName + '_sqlite.db'))\n",
    "\n",
    "propid, proptags = opsdb.fetchPropInfo()\n",
    "ddpropid = proptags['DD'][0]\n",
    "\n",
    "# Query table.\n",
    "cols = ['expMJD', 'night', 'fieldRA', 'fieldDec', 'rotSkyPos', 'filter',\n",
    "        'visitExpTime', 'finSeeing', 'fiveSigmaDepth', 'solarElong', \n",
    "        'fieldID', 'propID']\n",
    "\n",
    "obs = opsdb.fetchMetricData(cols, sqlconstraint='')"
   ]
  },
  {
   "cell_type": "code",
   "execution_count": 120,
   "metadata": {
    "collapsed": false
   },
   "outputs": [
    {
     "name": "stdout",
     "output_type": "stream",
     "text": [
      "All in order!\n"
     ]
    }
   ],
   "source": [
    "# Check that everything came back in time order..\n",
    "idx = np.argsort(obs['expMJD'])\n",
    "if (np.all(obs['expMJD'][idx] == obs['expMJD'])):\n",
    "    print 'All in order!'\n",
    "else:\n",
    "    print \"You need to check the order.\""
   ]
  },
  {
   "cell_type": "code",
   "execution_count": 121,
   "metadata": {
    "collapsed": false
   },
   "outputs": [],
   "source": [
    "# Join back-to-back visits.\n",
    "nextObs = obs[1:]\n",
    "currObs = obs[:-1]\n",
    "match = np.where((nextObs['fieldID'] == currObs['fieldID']) & (nextObs['filter'] == currObs['filter']) & \n",
    "                 ((nextObs['expMJD'] - currObs['expMJD']) < 41./60./60./24) & \n",
    "                 (nextObs['expMJD'] - currObs['expMJD'] > 0) & (currObs['propID']!=ddpropid))[0]"
   ]
  },
  {
   "cell_type": "code",
   "execution_count": 122,
   "metadata": {
    "collapsed": false
   },
   "outputs": [
    {
     "name": "stdout",
     "output_type": "stream",
     "text": [
      "[      0       2       6 ..., 3750906 3750908 3750910]\n"
     ]
    }
   ],
   "source": [
    "print match"
   ]
  },
  {
   "cell_type": "code",
   "execution_count": 125,
   "metadata": {
    "collapsed": false
   },
   "outputs": [
    {
     "name": "stdout",
     "output_type": "stream",
     "text": [
      "(1, 49353.034064499996, 0, 1.256637, 0.045991, 2.462996, 'z', 60.0, 2.226991, 22.077426731330824, 145.070664, 2766, 9)\n",
      "(1, 49353.034064499996, 0, 1.256637, 0.045991, 2.462996, 'z', 60.0, 2.226991, 22.077426731330824, 145.070664, 2766, 9)\n",
      "(1, 49353.033856, 0, 1.256637, 0.045991, 2.462996, 'z', 30.0, 1.075637, 21.700632, 145.070664, 2766, 9)\n"
     ]
    }
   ],
   "source": [
    "newObs = np.copy(currObs)\n",
    "newObs['visitExpTime'][match] = currObs['visitExpTime'][match] + nextObs['visitExpTime'][match]\n",
    "newObs['finSeeing'][match] = np.max([currObs['finSeeing'][match], nextObs['finSeeing'][match]])\n",
    "newObs['expMJD'][match] = (currObs['expMJD'][match] + nextObs['expMJD'][match]) / 2.0\n",
    "newObs['fiveSigmaDepth'][match] = 1.25 *np.log10((10.**(0.8*currObs['fiveSigmaDepth'][match])) + \n",
    "                                                 10.**(0.8*nextObs['fiveSigmaDepth'][match]))\n",
    "\n",
    "print newObs[0]\n",
    "print newObs[match[0]]\n",
    "print currObs[match[0]]"
   ]
  },
  {
   "cell_type": "code",
   "execution_count": 126,
   "metadata": {
    "collapsed": false
   },
   "outputs": [
    {
     "name": "stdout",
     "output_type": "stream",
     "text": [
      "#line,expMJD,night,fieldRA,fieldDec,rotSkyPos,filter,visitExpTime,finSeeing,fiveSigmaDepth,solarElong,fieldID,propID\n"
     ]
    }
   ],
   "source": [
    "formatstring = ['%d', '%g', '%d', '%g', '%g', '%f', '%s', '%.1f', '%f', '%f', '%f', '%d', '%d']\n",
    "header = ','.join(cols)\n",
    "header = '#line,' + header\n",
    "print header"
   ]
  },
  {
   "cell_type": "code",
   "execution_count": 127,
   "metadata": {
    "collapsed": false
   },
   "outputs": [],
   "source": [
    "np.savetxt(runName+'_summary.csv', newObs, fmt=formatstring, delimiter=',', header=header, comments='')"
   ]
  },
  {
   "cell_type": "code",
   "execution_count": 128,
   "metadata": {
    "collapsed": false
   },
   "outputs": [
    {
     "name": "stdout",
     "output_type": "stream",
     "text": [
      "aws1_1001_summary.csv\n",
      "#line,expMJD,night,fieldRA,fieldDec,rotSkyPos,filter,visitExpTime,finSeeing,fiveSigmaDepth,solarElong,fieldID,propID\n",
      "1,49353,0,1.25664,0.045991,2.462996,z,60.0,2.226991,22.077427,145.070664,2766,9\n",
      "2,49353,0,1.25664,0.045991,2.462996,z,30.0,1.074755,21.701646,145.070319,2766,11\n",
      "3,49353,0,1.20101,0.046915,2.514462,z,60.0,2.226991,22.100065,142.555308,2776,9\n",
      "4,49353,0,1.20101,0.046915,2.514462,z,30.0,1.055212,21.724271,142.554949,2776,11\n",
      "5,49353,0,1.17385,0.004883,2.512492,z,30.0,1.030315,21.753590,139.874600,2664,9\n",
      "6,49353,0,1.22901,0.003271,2.457322,z,30.0,1.044518,21.736795,142.301424,2654,9\n",
      "7,49353,0,1.31227,0.046915,2.415675,z,60.0,2.226991,22.068543,147.556582,2772,9\n",
      "8,49353,0,1.31227,0.046915,2.415675,z,30.0,1.073145,21.701176,147.556253,2772,11\n",
      "9,49353,0,1.33943,0.004882,2.365949,z,30.0,1.064461,21.711234,147.041715,2662,9\n"
     ]
    }
   ],
   "source": [
    "!ls $runName\"_summary.csv\"\n",
    "!head $runName'_summary.csv'"
   ]
  },
  {
   "cell_type": "code",
   "execution_count": null,
   "metadata": {
    "collapsed": true
   },
   "outputs": [],
   "source": []
  }
 ],
 "metadata": {
  "kernelspec": {
   "display_name": "Python 2",
   "language": "python",
   "name": "python2"
  },
  "language_info": {
   "codemirror_mode": {
    "name": "ipython",
    "version": 2
   },
   "file_extension": ".py",
   "mimetype": "text/x-python",
   "name": "python",
   "nbconvert_exporter": "python",
   "pygments_lexer": "ipython2",
   "version": "2.7.10"
  }
 },
 "nbformat": 4,
 "nbformat_minor": 0
}
