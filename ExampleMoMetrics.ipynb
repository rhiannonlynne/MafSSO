{
 "cells": [
  {
   "cell_type": "markdown",
   "metadata": {},
   "source": [
    "## Example of metric calculation using moving object metrics.\n",
    "\n",
    "The inputs needed here (the obsfile) can be calculated using the code demonstrated in the [ExampleMoObs](./ExampleMoObs.ipynb) notebook. \n",
    "\n",
    "Here, I'm working through how those observations can be read back into the code and metric values (such as discovery chances and then completeness) can be calculated. \n",
    "\n",
    "There are definitely some things to be improved upon; if the observation generation stopped at the point of generating interpolations, for example, and the moving object slicer read those interpolations back in, together with the the simdata, it could generate the actual observations on the fly (when using the camera footprint, this would add non-insignificant overhead, so it might actually be nice to be able to do either/both). "
   ]
  },
  {
   "cell_type": "code",
   "execution_count": 1,
   "metadata": {
    "collapsed": false
   },
   "outputs": [
    {
     "ename": "SyntaxError",
     "evalue": "invalid syntax (moMetricBundle.py, line 51)",
     "output_type": "error",
     "traceback": [
      "\u001b[0;36m  File \u001b[0;32m\"moMetricBundle.py\"\u001b[0;36m, line \u001b[0;32m51\u001b[0m\n\u001b[0;31m    def write(self):\u001b[0m\n\u001b[0m      ^\u001b[0m\n\u001b[0;31mSyntaxError\u001b[0m\u001b[0;31m:\u001b[0m invalid syntax\n"
     ]
    }
   ],
   "source": [
    "import numpy as np\n",
    "import matplotlib.pyplot as plt\n",
    "%matplotlib inline\n",
    "\n",
    "from moSlicer import MoSlicer\n",
    "import moMetrics as MoMetrics\n",
    "from moSecondaryMetrics import MoCompletenessMetric, IntegrateOverHMetric\n",
    "import moPlots as moPlots\n",
    "import moMetricBundle as mmb"
   ]
  },
  {
   "cell_type": "code",
   "execution_count": null,
   "metadata": {
    "collapsed": false
   },
   "outputs": [],
   "source": [
    "# Set up MoSlicer.  We use the moving object slicer to read the observation data from disk.\n",
    "orbitfile = 'pha20141031.des'\n",
    "obsfile = 'pha_withChip_allObs.txt'"
   ]
  },
  {
   "cell_type": "code",
   "execution_count": null,
   "metadata": {
    "collapsed": false
   },
   "outputs": [],
   "source": [
    "mos = MoSlicer(orbitfile, Hrange=np.arange(13, 25, 0.5))\n",
    "mos.readObs(obsfile)\n",
    "mos.allObs.tail(10)"
   ]
  },
  {
   "cell_type": "code",
   "execution_count": null,
   "metadata": {
    "collapsed": false
   },
   "outputs": [],
   "source": [
    "mos.orbits.tail()"
   ]
  },
  {
   "cell_type": "code",
   "execution_count": null,
   "metadata": {
    "collapsed": false
   },
   "outputs": [],
   "source": [
    "### side note.. illustrating detection probability curve (50% at m5)\n",
    "# this probability curve is used if snrLimit is NOT set (otherwise it's just a cutoff at snrLimit)\n",
    "metric = MoMetrics.BaseMoMetric()\n",
    "# Check what 'visibility' looks like. \n",
    "appMag = np.arange(18, 27, 0.001)\n",
    "magLim = 22.8\n",
    "vis = metric._calcVis(appMag, magLim)\n",
    "bins = np.arange(appMag.min(), appMag.max(), 0.1)\n",
    "counts = np.zeros(len(bins))\n",
    "for i, (b1, b2) in enumerate(zip(bins[:-1], bins[1:])):\n",
    "    counts[i] = len(np.where((appMag >= b1) & (appMag < b2) & (vis==1))[0])\n",
    "plt.plot(bins, counts)"
   ]
  },
  {
   "cell_type": "code",
   "execution_count": null,
   "metadata": {
    "collapsed": false
   },
   "outputs": [],
   "source": [
    "# Set up an example metric bundle.\n",
    "metric = MoMetrics.NObsMetric()\n",
    "slicer = mos\n",
    "pandasConstraint = ''\n",
    "mobundle = mmb.MoMetricBundle(metric, slicer, pandasConstraint)"
   ]
  },
  {
   "cell_type": "code",
   "execution_count": null,
   "metadata": {
    "collapsed": false
   },
   "outputs": [],
   "source": [
    "# Put this into a dictionary and pass to the moMetricBundleGroup. \n",
    "bdict = {'nobs':mobundle}\n",
    "bg = mmb.MoMetricBundleGroup(bdict)"
   ]
  },
  {
   "cell_type": "code",
   "execution_count": null,
   "metadata": {
    "collapsed": false
   },
   "outputs": [],
   "source": [
    "bg.runAll()"
   ]
  },
  {
   "cell_type": "code",
   "execution_count": null,
   "metadata": {
    "collapsed": false
   },
   "outputs": [],
   "source": [
    "print mobundle.metricValues"
   ]
  },
  {
   "cell_type": "code",
   "execution_count": null,
   "metadata": {
    "collapsed": false
   },
   "outputs": [],
   "source": [
    "pl = moPlots.MetricVsH()\n",
    "pl(mobundle.metricValues, mos, {'ylabel':'Nobs'})"
   ]
  },
  {
   "cell_type": "code",
   "execution_count": null,
   "metadata": {
    "collapsed": false
   },
   "outputs": [],
   "source": [
    "pl = moPlots.MetricVsOrbitPoints()\n",
    "pl(mobundle.metricValues, mos, {})"
   ]
  },
  {
   "cell_type": "code",
   "execution_count": null,
   "metadata": {
    "collapsed": true
   },
   "outputs": [],
   "source": []
  }
 ],
 "metadata": {
  "kernelspec": {
   "display_name": "Python 2",
   "language": "python",
   "name": "python2"
  },
  "language_info": {
   "codemirror_mode": {
    "name": "ipython",
    "version": 2
   },
   "file_extension": ".py",
   "mimetype": "text/x-python",
   "name": "python",
   "nbconvert_exporter": "python",
   "pygments_lexer": "ipython2",
   "version": "2.7.10"
  }
 },
 "nbformat": 4,
 "nbformat_minor": 0
}
