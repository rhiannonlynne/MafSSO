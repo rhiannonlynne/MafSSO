{
 "cells": [
  {
   "cell_type": "code",
   "execution_count": 1,
   "metadata": {
    "collapsed": false
   },
   "outputs": [],
   "source": [
    "import numpy as np\n",
    "import matplotlib.pyplot as plt\n",
    "%matplotlib inline\n",
    "\n",
    "from moSlicer import MoSlicer\n",
    "import moMetrics as MoMetrics"
   ]
  },
  {
   "cell_type": "code",
   "execution_count": 2,
   "metadata": {
    "collapsed": false
   },
   "outputs": [],
   "source": [
    "# Set up MoSlicer. \n",
    "orbitfile = 'pha20141031.des'\n",
    "obsfile = 'pha_withChip_allObs.txt'"
   ]
  },
  {
   "cell_type": "code",
   "execution_count": 3,
   "metadata": {
    "collapsed": false
   },
   "outputs": [
    {
     "data": {
      "text/html": [
       "<div>\n",
       "<table border=\"1\" class=\"dataframe\">\n",
       "  <thead>\n",
       "    <tr style=\"text-align: right;\">\n",
       "      <th></th>\n",
       "      <th>objId</th>\n",
       "      <th>delta</th>\n",
       "      <th>ra</th>\n",
       "      <th>dec</th>\n",
       "      <th>magV</th>\n",
       "      <th>time</th>\n",
       "      <th>dradt</th>\n",
       "      <th>ddecdt</th>\n",
       "      <th>phase</th>\n",
       "      <th>solarelon</th>\n",
       "      <th>...</th>\n",
       "      <th>rotSkyPos</th>\n",
       "      <th>filter</th>\n",
       "      <th>finSeeing</th>\n",
       "      <th>fiveSigmaDepth</th>\n",
       "      <th>visitExpTime</th>\n",
       "      <th>solarElong</th>\n",
       "      <th>dmagColor</th>\n",
       "      <th>dmagTrailing</th>\n",
       "      <th>dmagDetect</th>\n",
       "      <th>magFilter</th>\n",
       "    </tr>\n",
       "  </thead>\n",
       "  <tbody>\n",
       "    <tr>\n",
       "      <th>0</th>\n",
       "      <td>0</td>\n",
       "      <td>0.407790</td>\n",
       "      <td>178.554054</td>\n",
       "      <td>7.853689</td>\n",
       "      <td>20.969449</td>\n",
       "      <td>49540.020904</td>\n",
       "      <td>2.528608</td>\n",
       "      <td>-1.748578</td>\n",
       "      <td>85.525555</td>\n",
       "      <td>70.905501</td>\n",
       "      <td>...</td>\n",
       "      <td>4.063771</td>\n",
       "      <td>i</td>\n",
       "      <td>1.030507</td>\n",
       "      <td>23.394825</td>\n",
       "      <td>30</td>\n",
       "      <td>72.496338</td>\n",
       "      <td>-0.291352</td>\n",
       "      <td>0.613400</td>\n",
       "      <td>1.110046</td>\n",
       "      <td>20.678097</td>\n",
       "    </tr>\n",
       "    <tr>\n",
       "      <th>1</th>\n",
       "      <td>0</td>\n",
       "      <td>0.407800</td>\n",
       "      <td>178.557465</td>\n",
       "      <td>7.851354</td>\n",
       "      <td>20.969423</td>\n",
       "      <td>49540.022240</td>\n",
       "      <td>2.528674</td>\n",
       "      <td>-1.748536</td>\n",
       "      <td>85.522353</td>\n",
       "      <td>70.908223</td>\n",
       "      <td>...</td>\n",
       "      <td>4.095892</td>\n",
       "      <td>i</td>\n",
       "      <td>0.955558</td>\n",
       "      <td>23.445884</td>\n",
       "      <td>30</td>\n",
       "      <td>69.651283</td>\n",
       "      <td>-0.291352</td>\n",
       "      <td>0.644290</td>\n",
       "      <td>1.166517</td>\n",
       "      <td>20.678071</td>\n",
       "    </tr>\n",
       "    <tr>\n",
       "      <th>2</th>\n",
       "      <td>0</td>\n",
       "      <td>0.535783</td>\n",
       "      <td>200.570397</td>\n",
       "      <td>-7.461039</td>\n",
       "      <td>21.186844</td>\n",
       "      <td>49551.046682</td>\n",
       "      <td>1.480196</td>\n",
       "      <td>-1.019487</td>\n",
       "      <td>64.953147</td>\n",
       "      <td>86.517550</td>\n",
       "      <td>...</td>\n",
       "      <td>4.460240</td>\n",
       "      <td>z</td>\n",
       "      <td>1.015369</td>\n",
       "      <td>22.018934</td>\n",
       "      <td>30</td>\n",
       "      <td>86.211137</td>\n",
       "      <td>-0.298076</td>\n",
       "      <td>0.399883</td>\n",
       "      <td>0.668842</td>\n",
       "      <td>20.888769</td>\n",
       "    </tr>\n",
       "    <tr>\n",
       "      <th>3</th>\n",
       "      <td>0</td>\n",
       "      <td>0.664376</td>\n",
       "      <td>210.695185</td>\n",
       "      <td>-13.963565</td>\n",
       "      <td>21.584802</td>\n",
       "      <td>49558.967844</td>\n",
       "      <td>1.033271</td>\n",
       "      <td>-0.651569</td>\n",
       "      <td>56.410782</td>\n",
       "      <td>90.570445</td>\n",
       "      <td>...</td>\n",
       "      <td>3.592248</td>\n",
       "      <td>y</td>\n",
       "      <td>1.502535</td>\n",
       "      <td>20.617902</td>\n",
       "      <td>30</td>\n",
       "      <td>91.709672</td>\n",
       "      <td>-0.302563</td>\n",
       "      <td>0.149971</td>\n",
       "      <td>0.170791</td>\n",
       "      <td>21.282239</td>\n",
       "    </tr>\n",
       "    <tr>\n",
       "      <th>4</th>\n",
       "      <td>0</td>\n",
       "      <td>1.093462</td>\n",
       "      <td>228.996794</td>\n",
       "      <td>-23.126167</td>\n",
       "      <td>22.704031</td>\n",
       "      <td>49582.055036</td>\n",
       "      <td>0.558375</td>\n",
       "      <td>-0.236947</td>\n",
       "      <td>43.816952</td>\n",
       "      <td>87.775357</td>\n",
       "      <td>...</td>\n",
       "      <td>4.936402</td>\n",
       "      <td>z</td>\n",
       "      <td>0.628552</td>\n",
       "      <td>22.636733</td>\n",
       "      <td>30</td>\n",
       "      <td>87.129406</td>\n",
       "      <td>-0.298076</td>\n",
       "      <td>0.191929</td>\n",
       "      <td>0.246530</td>\n",
       "      <td>22.405955</td>\n",
       "    </tr>\n",
       "  </tbody>\n",
       "</table>\n",
       "<p>5 rows × 26 columns</p>\n",
       "</div>"
      ],
      "text/plain": [
       "   objId     delta          ra        dec       magV          time     dradt  \\\n",
       "0      0  0.407790  178.554054   7.853689  20.969449  49540.020904  2.528608   \n",
       "1      0  0.407800  178.557465   7.851354  20.969423  49540.022240  2.528674   \n",
       "2      0  0.535783  200.570397  -7.461039  21.186844  49551.046682  1.480196   \n",
       "3      0  0.664376  210.695185 -13.963565  21.584802  49558.967844  1.033271   \n",
       "4      0  1.093462  228.996794 -23.126167  22.704031  49582.055036  0.558375   \n",
       "\n",
       "     ddecdt      phase  solarelon    ...      rotSkyPos  filter  finSeeing  \\\n",
       "0 -1.748578  85.525555  70.905501    ...       4.063771       i   1.030507   \n",
       "1 -1.748536  85.522353  70.908223    ...       4.095892       i   0.955558   \n",
       "2 -1.019487  64.953147  86.517550    ...       4.460240       z   1.015369   \n",
       "3 -0.651569  56.410782  90.570445    ...       3.592248       y   1.502535   \n",
       "4 -0.236947  43.816952  87.775357    ...       4.936402       z   0.628552   \n",
       "\n",
       "   fiveSigmaDepth  visitExpTime  solarElong  dmagColor dmagTrailing  \\\n",
       "0       23.394825            30   72.496338  -0.291352     0.613400   \n",
       "1       23.445884            30   69.651283  -0.291352     0.644290   \n",
       "2       22.018934            30   86.211137  -0.298076     0.399883   \n",
       "3       20.617902            30   91.709672  -0.302563     0.149971   \n",
       "4       22.636733            30   87.129406  -0.298076     0.191929   \n",
       "\n",
       "   dmagDetect  magFilter  \n",
       "0    1.110046  20.678097  \n",
       "1    1.166517  20.678071  \n",
       "2    0.668842  20.888769  \n",
       "3    0.170791  21.282239  \n",
       "4    0.246530  22.405955  \n",
       "\n",
       "[5 rows x 26 columns]"
      ]
     },
     "execution_count": 3,
     "metadata": {},
     "output_type": "execute_result"
    }
   ],
   "source": [
    "mos = MoSlicer(orbitfile, Hrange=np.arange(13, 25, 0.5))\n",
    "mos.readObs(obsfile)\n",
    "mos.allObs.head()"
   ]
  },
  {
   "cell_type": "code",
   "execution_count": 4,
   "metadata": {
    "collapsed": false
   },
   "outputs": [],
   "source": [
    "metricVals = np.empty(mos.slicerShape, dtype='float')\n",
    "metric = MoMetrics.NObsMetric()\n",
    "#metric = MoMetrics.DiscoveryMetric()"
   ]
  },
  {
   "cell_type": "code",
   "execution_count": 5,
   "metadata": {
    "collapsed": false
   },
   "outputs": [
    {
     "data": {
      "text/plain": [
       "[<matplotlib.lines.Line2D at 0x102dfa9d0>]"
      ]
     },
     "execution_count": 5,
     "metadata": {},
     "output_type": "execute_result"
    },
    {
     "data": {
      "image/png": "[encoded data removed]",
      "text/plain": [
       "<matplotlib.figure.Figure at 0x11f97a350>"
      ]
     },
     "metadata": {},
     "output_type": "display_data"
    }
   ],
   "source": [
    "# Check what 'visibility' looks like. \n",
    "appMag = np.arange(18, 27, 0.001)\n",
    "magLim = 22.8\n",
    "vis = metric._calcVis(appMag, magLim)\n",
    "bins = np.arange(appMag.min(), appMag.max(), 0.1)\n",
    "counts = np.zeros(len(bins))\n",
    "for i, (b1, b2) in enumerate(zip(bins[:-1], bins[1:])):\n",
    "    counts[i] = len(np.where((appMag >= b1) & (appMag < b2) & (vis==1))[0])\n",
    "plt.plot(bins, counts)"
   ]
  },
  {
   "cell_type": "code",
   "execution_count": 6,
   "metadata": {
    "collapsed": false
   },
   "outputs": [],
   "source": [
    "for i, slicept in enumerate(mos):\n",
    "    for j, Hval in enumerate(slicept['Hvals']):\n",
    "        metricVals[i][j] = metric.run(slicept['obs'], Hval, slicept['orb']['H'])"
   ]
  },
  {
   "cell_type": "code",
   "execution_count": 7,
   "metadata": {
    "collapsed": false
   },
   "outputs": [
    {
     "name": "stdout",
     "output_type": "stream",
     "text": [
      "[[ 448.  448.  448. ...,   10.    1.    0.]\n",
      " [  58.   58.   58. ...,   28.   24.   14.]\n",
      " [ 160.  160.  160. ...,   10.    0.    0.]\n",
      " ..., \n",
      " [   0.    0.    0. ...,    0.    0.    0.]\n",
      " [   0.    0.    0. ...,    0.    0.    0.]\n",
      " [   0.    0.    0. ...,    0.    0.    0.]]\n"
     ]
    }
   ],
   "source": [
    "print metricVals"
   ]
  },
  {
   "cell_type": "code",
   "execution_count": null,
   "metadata": {
    "collapsed": true
   },
   "outputs": [],
   "source": []
  }
 ],
 "metadata": {
  "kernelspec": {
   "display_name": "Python 2",
   "language": "python",
   "name": "python2"
  },
  "language_info": {
   "codemirror_mode": {
    "name": "ipython",
    "version": 2
   },
   "file_extension": ".py",
   "mimetype": "text/x-python",
   "name": "python",
   "nbconvert_exporter": "python",
   "pygments_lexer": "ipython2",
   "version": "2.7.10"
  }
 },
 "nbformat": 4,
 "nbformat_minor": 0
}
