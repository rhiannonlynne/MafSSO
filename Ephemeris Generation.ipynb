{
 "cells": [
  {
   "cell_type": "markdown",
   "metadata": {},
   "source": [
    "##Ephemeris Generation##\n",
    "\n",
    "This notebook is intended to test various methods of generating the positions and velocities of moving objects, including testing the accuracy of the resulting values calculated by interpolating between the points calculated by an n-body integrator. "
   ]
  },
  {
   "cell_type": "code",
   "execution_count": 5,
   "metadata": {
    "collapsed": true
   },
   "outputs": [],
   "source": [
    "import numpy as np\n",
    "import matplotlib.pyplot as plt\n",
    "%matplotlib inline"
   ]
  },
  {
   "cell_type": "code",
   "execution_count": 6,
   "metadata": {
    "collapsed": true
   },
   "outputs": [],
   "source": [
    "# Read some orbital parameters.\n",
    "import pandas\n",
    "orbitfile = 'pha20141031.des'\n",
    "\n",
    "orbits = pandas.read_table(orbitfile, sep='\\s', engine='python')\n",
    "orbits = orbits.to_records()"
   ]
  },
  {
   "cell_type": "code",
   "execution_count": 7,
   "metadata": {
    "collapsed": false
   },
   "outputs": [
    {
     "data": {
      "text/plain": [
       "1"
      ]
     },
     "execution_count": 7,
     "metadata": {},
     "output_type": "execute_result"
    }
   ],
   "source": [
    "# Set up to run OpenOrb to generate ephemerides.\n",
    "from itertools import repeat\n",
    "import pyoorb as oo\n",
    "\n",
    "oo.pyoorb.oorb_init(ephemeris_fname=\"\")"
   ]
  },
  {
   "cell_type": "markdown",
   "metadata": {},
   "source": [
    "Set up the times at which to calculate 'rough' positions. \n",
    "We will interpolate between these times to find the positions at the actual time of a visit. "
   ]
  },
  {
   "cell_type": "code",
   "execution_count": 8,
   "metadata": {
    "collapsed": false
   },
   "outputs": [
    {
     "name": "stdout",
     "output_type": "stream",
     "text": [
      "(4393, 2)\n"
     ]
    }
   ],
   "source": [
    "timestep = 2.0 / 24.0  # in days  -- previous value \n",
    "timestart = 49353\n",
    "nyears = 1 # years\n",
    "timeend = timestart + 365 * nyears + 1.0\n",
    "times = np.arange(timestart, timeend + timestep/2.0, timestep)\n",
    "# For pyoorb, we need to tag times with timescales;\n",
    "# 1= MJD_UTC, 2=UT1, 3=TT, 4=TAI\n",
    "ephTimes = np.array(zip(times, repeat(4, len(times))), dtype='double', order='F')\n",
    "print ephTimes.shape"
   ]
  },
  {
   "cell_type": "markdown",
   "metadata": {},
   "source": [
    "Python oorb element format: \n",
    "        # Translate orbital elements into array that pyoorb will like.\n",
    "        # PyOrb wants ::\n",
    "        # 0: orbitId  (cannot be a string)\n",
    "        # 1 - 6: orbital elements, using radians for angles\n",
    "        # 7: element type code, where 2 = cometary - means timescale is TT, too\n",
    "        # 8: epoch\n",
    "        # 9: timescale for the epoch; 1= MJD_UTC, 2=UT1, 3=TT, 4=TAI\n",
    "        # 10: magHv\n",
    "        # 11: G\n",
    "so we have to do a little translating from the orbits DataFrame to the elements we want in this array. "
   ]
  },
  {
   "cell_type": "code",
   "execution_count": 1,
   "metadata": {
    "collapsed": true
   },
   "outputs": [],
   "source": [
    "def packOorbElem(sso):\n",
    "    \"\"\"\n",
    "    Convert an array of orbital elements into the array OpenOrb needs as input.\n",
    "    'sso' can be the orbital elements of a single object or of multiple objects.\n",
    "    \"\"\"\n",
    "    elem_type = np.zeros(len(sso['q'])) + 2\n",
    "    epoch_type = np.zeros(len(sso['q'])) + 3\n",
    "    # Also, the orbitID has to be a float, rather than a string, so substitute if needed.\n",
    "    objid = None\n",
    "    if '!!ObjID' in sso.dtype.names:\n",
    "        objid = '!!ObjID'\n",
    "    elif 'objid' in sso.dtype.names:\n",
    "        objid = 'objid'\n",
    "    if (objid is not None) and (isinstance(sso[objid][0], float) or isinstance(sso[objid][0], int)):\n",
    "        orbids = sso[objid]\n",
    "    else:\n",
    "        orbids = np.arange(0, len(sso['q']), 1)\n",
    "    # Search for appropriate 'keywords' for some other orbital parameters that vary in different input formats\n",
    "    BigOmega = 'Omega/node'\n",
    "    if 'node' in sso.dtype.names:\n",
    "        BigOmega = 'node'\n",
    "    omega = 'omega/argperi'\n",
    "    if 'argperi' in sso.dtype.names:\n",
    "        omega = 'argperi'\n",
    "    tperi = 't_p'\n",
    "    if 'timeperi' in sso.dtype.names:\n",
    "        tperi = 'timeperi'\n",
    "    inc = 'i'\n",
    "    if 'inc' in sso.dtype.names:\n",
    "        inc = 'inc'\n",
    "    epoch = 't_0'\n",
    "    if 'epoch' in sso.dtype.names:\n",
    "        epoch = 'epoch'\n",
    "    magH = 'magHv'\n",
    "    if 'H' in sso.dtype.names:\n",
    "        magH = 'H'\n",
    "    if magH not in sso.dtype.names:\n",
    "        Hval = np.zeros(len(sso['q'])) + 20.\n",
    "    else:\n",
    "        Hval = sso[magH]\n",
    "    if 'phaseV' not in sso.dtype.names:\n",
    "        phaseV = np.zeros(len(sso['q'])) + 0.15\n",
    "    else:\n",
    "        phaseV = sso['phaseV']\n",
    "    \n",
    "    # Convert to format for pyoorb, INCLUDING converting inclination, node, argperi to RADIANS\n",
    "    oorbArray = np.column_stack((orbids, sso['q'], sso['e'], np.radians(sso[inc]),\n",
    "                                 np.radians(sso[BigOmega]), np.radians(sso[omega]),\n",
    "                                 sso[tperi], elem_type, sso[epoch], epoch_type, \n",
    "                                 Hval, phaseV))                                            \n",
    "    return oorbArray"
   ]
  },
  {
   "cell_type": "code",
   "execution_count": 11,
   "metadata": {
    "collapsed": true
   },
   "outputs": [],
   "source": [
    "def packOorbElem2(sso):\n",
    "    oorbelems = [sso['!!ObjID'], sso['q'], sso['e'], np.radians(sso['i']), np.radians(sso['Omega/node']), \n",
    "             np.radians(sso['omega/argperi']), sso['t_p'],  2, sso['t_0'], 3, sso['magHv'], 0.15]\n",
    "    oorbelems = np.column_stack(oorbelems)\n",
    "    return oorbelems"
   ]
  },
  {
   "cell_type": "code",
   "execution_count": null,
   "metadata": {
    "collapsed": false
   },
   "outputs": [],
   "source": [
    "print nyears, ' (years of ephemerides)'\n",
    "for sso in orbits[0:1]:\n",
    "    print sso\n",
    "    oorbelems = packOorbElem2(sso)\n",
    "    oorbephs, err = oo.pyoorb.oorb_ephemeris(in_orbits = oorbelems, in_obscode=807, in_date_ephems=ephTimes)"
   ]
  },
  {
   "cell_type": "code",
   "execution_count": null,
   "metadata": {
    "collapsed": true
   },
   "outputs": [],
   "source": []
  }
 ],
 "metadata": {
  "kernelspec": {
   "display_name": "Python 2",
   "language": "python",
   "name": "python2"
  },
  "language_info": {
   "codemirror_mode": {
    "name": "ipython",
    "version": 2
   },
   "file_extension": ".py",
   "mimetype": "text/x-python",
   "name": "python",
   "nbconvert_exporter": "python",
   "pygments_lexer": "ipython2",
   "version": "2.7.9"
  }
 },
 "nbformat": 4,
 "nbformat_minor": 0
}
