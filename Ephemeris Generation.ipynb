{
 "cells": [
  {
   "cell_type": "markdown",
   "metadata": {},
   "source": [
    "##Ephemeris Generation##\n",
    "\n",
    "This notebook is intended to test various methods of generating the positions and velocities of moving objects, including testing the accuracy of the resulting values calculated by interpolating between the points calculated by an n-body integrator. "
   ]
  },
  {
   "cell_type": "code",
   "execution_count": 1,
   "metadata": {
    "collapsed": true
   },
   "outputs": [],
   "source": [
    "import numpy as np\n",
    "import matplotlib.pyplot as plt\n",
    "%matplotlib inline"
   ]
  },
  {
   "cell_type": "code",
   "execution_count": 2,
   "metadata": {
    "collapsed": true
   },
   "outputs": [],
   "source": [
    "# Read some orbital parameters.\n",
    "import pandas\n",
    "orbitfile = 'pha20141031.des'\n",
    "\n",
    "orbits = pandas.read_table(orbitfile, sep='\\s', engine='python')\n",
    "orbits = orbits.to_records()"
   ]
  },
  {
   "cell_type": "code",
   "execution_count": 3,
   "metadata": {
    "collapsed": false
   },
   "outputs": [
    {
     "data": {
      "text/plain": [
       "3"
      ]
     },
     "execution_count": 3,
     "metadata": {},
     "output_type": "execute_result"
    }
   ],
   "source": [
    "# Set up to run OpenOrb to generate ephemerides.\n",
    "from itertools import repeat\n",
    "import pyoorb as oo\n",
    "\n",
    "oo.pyoorb.oorb_init(ephemeris_fname=\"\")"
   ]
  },
  {
   "cell_type": "markdown",
   "metadata": {},
   "source": [
    "Set up the times at which to calculate 'rough' positions. \n",
    "We will interpolate between these times to find the positions at the actual time of a visit. "
   ]
  },
  {
   "cell_type": "code",
   "execution_count": 4,
   "metadata": {
    "collapsed": false
   },
   "outputs": [
    {
     "name": "stdout",
     "output_type": "stream",
     "text": [
      "(367, 2)\n"
     ]
    }
   ],
   "source": [
    "timestep = 1 # days\n",
    "timestart = 49353\n",
    "nyears = 1 # years\n",
    "timeend = timestart + 365 * nyears + 1.0\n",
    "times = np.arange(timestart, timeend + timestep/2.0, timestep)\n",
    "# For pyoorb, we need to tag times with timescales;\n",
    "# 1= MJD_UTC, 2=UT1, 3=TT, 4=TAI\n",
    "ephTimes = np.array(zip(times, repeat(4, len(times))), dtype='double', order='F')\n",
    "print ephTimes.shape"
   ]
  },
  {
   "cell_type": "markdown",
   "metadata": {},
   "source": [
    "Python oorb element format: \n",
    "        # Translate orbital elements into array that pyoorb will like.\n",
    "        # PyOrb wants ::\n",
    "        # 0: orbitId  (cannot be a string)\n",
    "        # 1 - 6: orbital elements, using radians for angles\n",
    "        # 7: element type code, where 2 = cometary - means timescale is TT, too\n",
    "        # 8: epoch\n",
    "        # 9: timescale for the epoch; 1= MJD_UTC, 2=UT1, 3=TT, 4=TAI\n",
    "        # 10: magHv\n",
    "        # 11: G\n",
    "so we have to do a little translating from the orbits DataFrame to the elements we want in this array. "
   ]
  },
  {
   "cell_type": "code",
   "execution_count": 56,
   "metadata": {
    "collapsed": false
   },
   "outputs": [],
   "source": [
    "def packOorbElem(sso):\n",
    "    \"\"\"\n",
    "    Convert an array of orbital elements into the array OpenOrb needs as input.\n",
    "    'sso' can be the orbital elements of a single object or of multiple objects.\n",
    "    \"\"\"\n",
    "    if len(sso.shape) == 0:\n",
    "        nSso = 0\n",
    "        sso0 = sso\n",
    "        elem_type = 2\n",
    "        epoch_type = 3\n",
    "        Hval = 20.0\n",
    "        phaseV = 0.15\n",
    "    else:\n",
    "        nSso = len(sso)\n",
    "        sso0 = sso[0]\n",
    "        elem_type = np.zeros(nSso) + 2\n",
    "        epoch_type = np.zeros(nSso) + 3\n",
    "        Hval = np.zeros(nSso) + 20.0\n",
    "        phaseV= np.zeros(nSso) + 0.15\n",
    "    # Also, the orbitID has to be a float, rather than a string, so substitute if needed.\n",
    "    objid = None\n",
    "    if '!!ObjID' in sso.dtype.names:\n",
    "        objid = '!!ObjID'\n",
    "    elif 'objid' in sso.dtype.names:\n",
    "        objid = 'objid'\n",
    "    elif '!!OID' in sso.dtype.names:\n",
    "        objid = '!!OID'\n",
    "    if (objid is not None) and (isinstance(sso0[objid], float) or isinstance(sso0[objid], int)):\n",
    "        orbids = sso[objid]\n",
    "    else:\n",
    "        if nSso == 0:\n",
    "            orbids = 0\n",
    "        else:\n",
    "            orbids = np.arange(0, nSso, 1)\n",
    "    # Search for appropriate 'keywords' for some other orbital parameters that vary in different input formats\n",
    "    BigOmega = 'Omega/node'\n",
    "    if 'node' in sso.dtype.names:\n",
    "        BigOmega = 'node'\n",
    "    omega = 'omega/argperi'\n",
    "    if 'argperi' in sso.dtype.names:\n",
    "        omega = 'argperi'\n",
    "    tperi = 't_p'\n",
    "    if 'timeperi' in sso.dtype.names:\n",
    "        tperi = 'timeperi'\n",
    "    inc = 'i'\n",
    "    if 'inc' in sso.dtype.names:\n",
    "        inc = 'inc'\n",
    "    epoch = 't_0'\n",
    "    if 'epoch' in sso.dtype.names:\n",
    "        epoch = 'epoch'\n",
    "    magH = 'magHv'\n",
    "    if 'H' in sso.dtype.names:\n",
    "        magH = 'H'\n",
    "    if magH in sso.dtype.names:\n",
    "        Hval = sso[magH]\n",
    "    if 'phaseV' in sso.dtype.names:\n",
    "        phaseV = sso['phaseV']\n",
    "    \n",
    "    # Convert to format for pyoorb, INCLUDING converting inclination, node, argperi to RADIANS\n",
    "    oorbArray = np.column_stack((orbids, sso['q'], sso['e'], np.radians(sso[inc]),\n",
    "                                 np.radians(sso[BigOmega]), np.radians(sso[omega]),\n",
    "                                 sso[tperi], elem_type, sso[epoch], epoch_type, \n",
    "                                 Hval, phaseV))                                            \n",
    "    return oorbArray"
   ]
  },
  {
   "cell_type": "code",
   "execution_count": 45,
   "metadata": {
    "collapsed": true
   },
   "outputs": [],
   "source": [
    "def unpackEphs(oorbephem):\n",
    "    if \n",
    "    # then swap time/ephemeris element, so that we can get easy arrays of things like 'ra', 'dec'.\n",
    "    oorbephem = np.swapaxes(oorbephem, 0, 1)\n",
    "    dist = oorbephem[0]\n",
    "    ra = oorbephem[1]\n",
    "    dec = oorbephem[2]\n",
    "    magV = oorbephem[3]\n",
    "    time = oorbephem[4]\n",
    "    dradt = oorbephem[6]\n",
    "    ddecdt = oorbephem[7]\n",
    "    phaseangle = oorbephem[8]\n",
    "    solarelon = oorbephem[9]\n",
    "    velocity = np.sqrt(dradt**2 + ddecdt**2)\n",
    "    ephs = np.rec.fromarrays([time, ra, dec, dradt, ddecdt, dist, magV, phaseangle, solarelon, velocity], \n",
    "                             names=['time', 'ra', 'dec', 'dradt', 'ddecdt', 'dist', \n",
    "                                    'magV', 'phaseangle', 'solarelon', 'velocity'])\n",
    "    return ephs\n",
    "    "
   ]
  },
  {
   "cell_type": "code",
   "execution_count": 64,
   "metadata": {
    "collapsed": false
   },
   "outputs": [
    {
     "name": "stdout",
     "output_type": "stream",
     "text": [
      "1 loops, best of 3: 2.35 s per loop\n"
     ]
    }
   ],
   "source": [
    "%%timeit\n",
    "orbsubset = orbits[0:30]\n",
    "oorbelems = packOorbElem(orbsubset)\n",
    "oorbephs, err = oo.pyoorb.oorb_ephemeris(in_orbits = oorbelems, in_obscode=807, in_date_ephems=ephTimes)"
   ]
  },
  {
   "cell_type": "code",
   "execution_count": 65,
   "metadata": {
    "collapsed": false
   },
   "outputs": [
    {
     "name": "stdout",
     "output_type": "stream",
     "text": [
      "1 loops, best of 3: 320 ms per loop\n"
     ]
    }
   ],
   "source": [
    "%%timeit\n",
    "for sso in orbsubset:\n",
    "    orbelems = packOorbElem(sso)\n",
    "    oorbephs, err = oo.pyoorb.oorb_ephemeris(in_orbits = oorbelems, in_obscode=807, in_date_ephems=ephTimes)"
   ]
  },
  {
   "cell_type": "code",
   "execution_count": null,
   "metadata": {
    "collapsed": true
   },
   "outputs": [],
   "source": []
  }
 ],
 "metadata": {
  "kernelspec": {
   "display_name": "Python 2",
   "language": "python",
   "name": "python2"
  },
  "language_info": {
   "codemirror_mode": {
    "name": "ipython",
    "version": 2
   },
   "file_extension": ".py",
   "mimetype": "text/x-python",
   "name": "python",
   "nbconvert_exporter": "python",
   "pygments_lexer": "ipython2",
   "version": "2.7.10"
  }
 },
 "nbformat": 4,
 "nbformat_minor": 0
}
