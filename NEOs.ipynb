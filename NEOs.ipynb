{
 "cells": [
  {
   "cell_type": "code",
   "execution_count": 2,
   "metadata": {
    "collapsed": false
   },
   "outputs": [
    {
     "name": "stderr",
     "output_type": "stream",
     "text": [
      "/Users/lynnej/anaconda/lib/python2.7/site-packages/IPython/kernel/__init__.py:13: ShimWarning: The `IPython.kernel` package has been deprecated. You should import from ipykernel or jupyter_client instead.\n",
      "  \"You should import from ipykernel or jupyter_client instead.\", ShimWarning)\n"
     ]
    }
   ],
   "source": [
    "import os\n",
    "import numpy as np\n",
    "import numpy.ma as ma\n",
    "import matplotlib.pyplot as plt\n",
    "%matplotlib inline\n",
    "plt.style.use('ggplot')\n",
    "plt.rcParams['figure.figsize'] = 10, 6 \n",
    "\n",
    "from moSlicer import MoSlicer\n",
    "import moMetrics as mm\n",
    "import moSummaryMetrics as ms\n",
    "import moPlots as moPlots\n",
    "import moMetricBundle as mmb\n",
    "import lsst.sims.maf.plots as plots"
   ]
  },
  {
   "cell_type": "code",
   "execution_count": 3,
   "metadata": {
    "collapsed": false
   },
   "outputs": [],
   "source": [
    "# Define data set and generic metadata.\n",
    "orbitfile = 'pha20141031.des'\n",
    "#testDir = 'kraken_1039_pha20141031'\n",
    "#testDir = 'kraken_1040_comb_pha20141031'\n",
    "testDir = 'lucy_1000_pha20141031'\n",
    "obsfile = os.path.join(testDir, 'pha20141031_allObs.txt')\n",
    "runName = testDir.replace('_pha20141031', '')\n",
    "metadata = 'MPC PHAs'\n",
    "\n",
    "albedo = 0.13 \n",
    "# the mean albedo is probably 0.07 but 0.13 is the preferred value for evaluating the size of unknown PHAs"
   ]
  },
  {
   "cell_type": "code",
   "execution_count": 4,
   "metadata": {
    "collapsed": false
   },
   "outputs": [],
   "source": [
    "# Read orbit and observation data into a moving object slicer.\n",
    "mos = MoSlicer(orbitfile, Hrange=np.arange(15, 26, 0.5))\n",
    "mos.readObs(obsfile)"
   ]
  },
  {
   "cell_type": "code",
   "execution_count": 5,
   "metadata": {
    "collapsed": true
   },
   "outputs": [],
   "source": [
    "summaryMetrics = [ms.CompletenessMetric(), ms.CumulativeCompletenessMetric()]"
   ]
  },
  {
   "cell_type": "code",
   "execution_count": 6,
   "metadata": {
    "collapsed": false
   },
   "outputs": [],
   "source": [
    "# Set up a metric bundle to identify discovery (and then calculate completeness)\n",
    "# Calculate this for a variety of years.\n",
    "discbundles = {}\n",
    "extrapairbundles = {}\n",
    "longdiscbundles = {}\n",
    "magicbundles = {}\n",
    "velocitybundles = {}\n",
    "nyears = [5, 10, 12, 15]\n",
    "highvelocity = 1.5  #deg/day\n",
    "for yr in nyears:\n",
    "    # 'normal' discovery conditions - 3 pairs in 15 nights.\n",
    "    metric = mm.DiscoveryChancesMetric(tNight=90./60./24., nObsPerNight=2, \n",
    "                                        nNightsPerWindow=3, tWindow=15)\n",
    "    slicer = mos\n",
    "    constraint = 'night < %d' %(yr * 365 + 1)\n",
    "    md = metadata + ' year %d, 3 pairs in 15 nights' %(yr)\n",
    "    plotDict = {'nxbins':200, 'nybins':200, 'albedo':albedo}\n",
    "    discbundles[yr] = mmb.MoMetricBundle(metric, slicer, constraint, \n",
    "                                        runName=runName, metadata=md, \n",
    "                                        plotDict=plotDict, summaryMetrics=summaryMetrics)\n",
    "    # 'extra pair' discovery conditions - 4 pairs in 20 nights.\n",
    "    metric = mm.DiscoveryChancesMetric(tNight=90./60./24., nObsPerNight=2, \n",
    "                                      nNightsPerWindow=4, tWindow=20)\n",
    "    md = metadata + ' year %d, 4 pairs in 20 nights' %(yr)\n",
    "    extrapairbundles[yr] = mmb.MoMetricBundle(metric, slicer, constraint, \n",
    "                                             runName=runName, metadata=md, \n",
    "                                             plotDict=plotDict, summaryMetrics=summaryMetrics)\n",
    "    # 'long' discovery window - 3 pairs in 30 nights.\n",
    "    metric = mm.DiscoveryChancesMetric(tNight=90./60./24., nObsPerNight=2,\n",
    "                                      nNightsPerWindow=3, tWindow=30)\n",
    "    md = metadata + ' year %d, 3 pairs in 30 nights' %(yr)\n",
    "    longdiscbundles[yr] = mmb.MoMetricBundle(metric, slicer, constraint, \n",
    "                                             runName=runName, metadata=md, \n",
    "                                             plotDict=plotDict, summaryMetrics=summaryMetrics)\n",
    "    # 'magic' discoveries - 6 visits within 30 nights\n",
    "    metric = mm.MagicDiscoveryMetric(nObs=6, tWindow=60)\n",
    "    md = metadata + ' year %d, 6 obs in 60 nights' %(yr)\n",
    "    magicbundles[yr] = mmb.MoMetricBundle(metric, slicer, constraint,\n",
    "                                         runName=runName, metadata=md,\n",
    "                                         plotDict=plotDict, summaryMetrics=summaryMetrics)\n",
    "    # discoveries via high velocity - more than 1.5 deg/day\n",
    "    metric = mm.HighVelocityMetric(velocity=highvelocity)\n",
    "    md = metadata + ' year %d, velocity > %.1f deg/day' %(yr, highvelocity)\n",
    "    velocitybundles[yr] = mmb.MoMetricBundle(metric, slicer, constraint,\n",
    "                                         runName=runName, metadata=md,\n",
    "                                         plotDict=plotDict, summaryMetrics=summaryMetrics)"
   ]
  },
  {
   "cell_type": "code",
   "execution_count": 7,
   "metadata": {
    "collapsed": true
   },
   "outputs": [],
   "source": [
    "# In year twelve only, look at discovery as function of SNR\n",
    "snrbundles = {}\n",
    "snrList = [4, 5, 5.5, 6, 7]\n",
    "for snr in snrList:\n",
    "    metric = mm.DiscoveryChancesMetric(tNight=90./60./24., nObsPerNight=2,\n",
    "                                      nNightsPerWindow=3, tWindow=15, snrLimit=snr)\n",
    "    slicer = mos\n",
    "    constraint = 'night < %d' %(12*365+1)\n",
    "    md = metadata + ' year %d, SNR=%.1f' %(yr, snr)\n",
    "    snrbundles[snr] = mmb.MoMetricBundle(metric, slicer, constraint,\n",
    "                                         runName=runName, metadata=md,\n",
    "                                         plotDict=plotDict, summaryMetrics=summaryMetrics)"
   ]
  },
  {
   "cell_type": "code",
   "execution_count": null,
   "metadata": {
    "collapsed": false
   },
   "outputs": [
    {
     "name": "stdout",
     "output_type": "stream",
     "text": [
      "[0, 1, 2, 3, 4, 5, 6, 7, 8, 9, 10, 11, 12, 13, 14, 15, 16, 17, 18, 19, 20, 21, 22, 23, 24]\n",
      "MPC PHAs year 15, SNR=7.0 night < 4381\n"
     ]
    }
   ],
   "source": [
    "# Combine all the bundles above into one big dictionary.\n",
    "bdict = {}\n",
    "count = 0\n",
    "for md in [discbundles, extrapairbundles, longdiscbundles, magicbundles, velocitybundles, snrbundles]:\n",
    "    for mb in md.itervalues():\n",
    "        bdict[count] = mb\n",
    "        count += 1\n",
    "print bdict.keys()\n",
    "print bdict[24].metadata"
   ]
  },
  {
   "cell_type": "code",
   "execution_count": null,
   "metadata": {
    "collapsed": false
   },
   "outputs": [],
   "source": [
    "# Run all the metricbundles. This will take a while - we're computing lots of things. \n",
    "bg = mmb.MoMetricBundleGroup(bdict, outDir=testDir)\n",
    "bg.runAll()"
   ]
  },
  {
   "cell_type": "code",
   "execution_count": null,
   "metadata": {
    "collapsed": true
   },
   "outputs": [],
   "source": [
    "bg.summaryAll()"
   ]
  },
  {
   "cell_type": "code",
   "execution_count": null,
   "metadata": {
    "collapsed": true
   },
   "outputs": [],
   "source": [
    "ph = plots.PlotHandler(outDir=testDir, savefig=True)\n",
    "# Will use a mock metricBundle to generate plots. \n",
    "# The completeness values (what we typically want to plot here) are a summary value, not an actual metric value.\n",
    "# So this little bit of fiddling lets us use the plotHandler as we would normally (with a metricBundle), but with \n",
    "# the actual values we want to plot. \n",
    "yearColors = {5:'r', 10:'g', 12:'b', 15:'y'}\n",
    "snrColors = {4:'r', 5:'b', 5.5:'y', 6:'g', 7:'k'}"
   ]
  },
  {
   "cell_type": "code",
   "execution_count": null,
   "metadata": {
    "collapsed": false
   },
   "outputs": [],
   "source": [
    "# Differential completeness, as function of H (for each of nyear above)\n",
    "compbundles = []\n",
    "\n",
    "Hmark = 22\n",
    "Hidx = np.where(mos.Hrange == Hmark)[0]\n",
    "\n",
    "for yr in nyears:\n",
    "    completeness = discbundles[yr].summaryValues['Completeness'][0]\n",
    "    completenessma = ma.MaskedArray(data=completeness, mask=np.zeros(len(completeness)), fill_value=0)\n",
    "    cval = completeness[Hidx]\n",
    "    plotDict = {'albedo':albedo, 'label':'Year %d: %.0f%s' %(yr, cval*100, '%'), \n",
    "                'color':yearColors[yr], \n",
    "                'title':'%s Differential Completeness - 3 pairs in 15 nights' %(runName), \n",
    "                'ylabel':'Completeness @ H', 'yMin':0, 'yMax':1, 'Hmark':22}\n",
    "    mb = mmb.MoMetricBundle(ms.CompletenessMetric(), slicer=mos, constraint=None,\n",
    "                            runName=runName, metadata='3 pairs in 15 nights', plotDict=plotDict)\n",
    "    mb.metricValues = completenessma\n",
    "    compbundles.append(mb)\n",
    "ph.setMetricBundles(compbundles)\n",
    "ph.plot(plotFunc=moPlots.MetricVsH())"
   ]
  },
  {
   "cell_type": "code",
   "execution_count": null,
   "metadata": {
    "collapsed": false
   },
   "outputs": [],
   "source": [
    "# Cumulative completeness, as function of H (for each of nyear above)\n",
    "compbundles = []\n",
    "\n",
    "Hmark = 22\n",
    "Hidx = np.where(mos.Hrange == Hmark)[0]\n",
    "\n",
    "for yr in nyears:\n",
    "    completeness = discbundles[yr].summaryValues['CumulativeCompleteness'][0]\n",
    "    completenessma = ma.MaskedArray(data=completeness, mask=np.zeros(len(completeness)), fill_value=0)\n",
    "    cval = completeness[Hidx]\n",
    "    plotDict = {'albedo':albedo, 'label':'Year %d: %.0f%s' %(yr, cval*100, '%'), \n",
    "                'color':yearColors[yr], \n",
    "                'title':'%s Cumulative Completeness - 3 pairs in 15 nights' %(runName), \n",
    "                'ylabel':'Completeness <= H', 'yMin':0, 'yMax':1, 'Hmark':22}\n",
    "    mb = mmb.MoMetricBundle(ms.CumulativeCompletenessMetric(), slicer=mos, constraint=None,\n",
    "                            runName=runName, metadata='3 pairs in 15 nights', plotDict=plotDict)\n",
    "    mb.metricValues = completenessma\n",
    "    compbundles.append(mb)\n",
    "ph.setMetricBundles(compbundles)\n",
    "ph.plot(plotFunc=moPlots.MetricVsH())"
   ]
  },
  {
   "cell_type": "code",
   "execution_count": null,
   "metadata": {
    "collapsed": false
   },
   "outputs": [],
   "source": [
    "# Histogram of discovery chances at a given H, in year 12 standard discovery.\n",
    "b = discbundles[12]\n",
    "mVals = b.metricValues.swapaxes(0, 1)[Hidx].filled(0)\n",
    "plt.hist(mVals[np.where(mVals>0)], bins=100, cumulative=True, normed=True, edgecolor='none')\n",
    "plt.xlabel('# discovery chances')\n",
    "plt.ylabel('Fraction of NEOs')\n",
    "plt.xlim(0, 20)\n",
    "plt.ylim(0, 1)\n",
    "plt.title('NEOs with X or more discovery chances @ H=%.1f' %(Hmark))\n",
    "plt.savefig(os.path.join(testDir, '%s_DiscoveryChances22_hist.pdf' %(runName)), format='pdf')"
   ]
  },
  {
   "cell_type": "code",
   "execution_count": null,
   "metadata": {
    "collapsed": false
   },
   "outputs": [],
   "source": [
    "# Plot the fraction of objects with only X discovery chances, in year 12 of survey in standard discovery.\n",
    "b = discbundles[12]\n",
    "Hrange = mos.Hrange\n",
    "nchances = np.arange(1, 4, 1)\n",
    "mVals = b.metricValues.swapaxes(0, 1).filled(0)\n",
    "for n in nchances:\n",
    "    fraction = np.zeros(len(Hrange), float)\n",
    "    for i, (H, mVal) in enumerate(zip(Hrange, mVals)):  \n",
    "        match = np.where(mVal>0)\n",
    "        n_available = float(len(match[0]))\n",
    "        fraction[i] = len(np.where(mVal[match]<=n)[0]) / n_available\n",
    "    plt.plot(Hrange, fraction, label='N chances %d' %(n))\n",
    "plt.legend(loc='upper left', fancybox=True)\n",
    "#plt.ylim(0, 5)\n",
    "plt.xlim(15, Hrange.max())\n",
    "plt.xlabel('H mag')\n",
    "plt.ylabel('Fraction of NEOs @H')\n",
    "plt.title('NEOs with <= N chances of discovery')\n",
    "plt.savefig(os.path.join(testDir, '%s_FractionNDiscoveryChances.pdf' %(runName)), format='pdf')"
   ]
  },
  {
   "cell_type": "code",
   "execution_count": null,
   "metadata": {
    "collapsed": false
   },
   "outputs": [],
   "source": [
    "# Cumulative completeness, as function of H (for each of nyear above) -- requiring 4 pairs in 20 nights.\n",
    "compbundles = []\n",
    "\n",
    "Hmark = 22\n",
    "Hidx = np.where(mos.Hrange == Hmark)[0]\n",
    "\n",
    "for yr in nyears:\n",
    "    completeness = extrapairbundles[yr].summaryValues['CumulativeCompleteness'][0]\n",
    "    completenessma = ma.MaskedArray(data=completeness, mask=np.zeros(len(completeness)), fill_value=0)\n",
    "    cval = completeness[Hidx]\n",
    "    plotDict = {'albedo':albedo, 'label':'Year %d: %.0f%s' %(yr, cval*100, '%'), \n",
    "                'color':yearColors[yr], \n",
    "                'title':'%s Cumulative Completeness - 4 pairs in 20 nights' %(runName), \n",
    "                'ylabel':'Completeness <= H', 'yMin':0, 'yMax':1, 'Hmark':22}\n",
    "    mb = mmb.MoMetricBundle(ms.CumulativeCompletenessMetric(), slicer=mos, constraint=None,\n",
    "                            runName=runName, metadata='4 pairs in 20 nights', plotDict=plotDict)\n",
    "    mb.metricValues = completenessma\n",
    "    compbundles.append(mb)\n",
    "ph.setMetricBundles(compbundles)\n",
    "ph.plot(plotFunc=moPlots.MetricVsH())"
   ]
  },
  {
   "cell_type": "code",
   "execution_count": null,
   "metadata": {
    "collapsed": false
   },
   "outputs": [],
   "source": [
    "# Cumulative completeness - discovery with 'high' velocity.\n",
    "compbundles = []\n",
    "\n",
    "Hmark = 22\n",
    "Hidx = np.where(mos.Hrange == Hmark)[0]\n",
    "\n",
    "for yr in nyears:\n",
    "    completeness = velocitybundles[yr].summaryValues['CumulativeCompleteness'][0]\n",
    "    completenessma = ma.MaskedArray(data=completeness, mask=np.zeros(len(completeness)), fill_value=0)\n",
    "    cval = completeness[Hidx]\n",
    "    plotDict = {'albedo':albedo, 'label':'Year %d: %.0f%s' %(yr, cval*100, '%'), \n",
    "                'color':yearColors[yr], \n",
    "                'title':'%s Fraction of objects seen with velocity>%.1fdeg/day' %(runName, highvelocity), \n",
    "                'ylabel':'Completeness <= H', 'yMin':0, 'yMax':1, 'Hmark':22}\n",
    "    mb = mmb.MoMetricBundle(ms.CumulativeCompletenessMetric(), slicer=mos, constraint=None,\n",
    "                            runName=runName, metadata='high velocity detections', plotDict=plotDict)\n",
    "    mb.metricValues = completenessma\n",
    "    compbundles.append(mb)\n",
    "ph.setMetricBundles(compbundles)\n",
    "ph.plot(plotFunc=moPlots.MetricVsH())"
   ]
  },
  {
   "cell_type": "code",
   "execution_count": null,
   "metadata": {
    "collapsed": false
   },
   "outputs": [],
   "source": [
    "# Fraction found with high velocity but not found with 'discovery'. \n",
    "# TBD. Should be able to take metricValues from discbundles and match against metricValues from highVelocity.\n",
    "combobundles = {}\n",
    "for yr in nyears:\n",
    "    found_data = discbundles[yr].metricValues.filled(0) + velocitybundles[yr].metricValues.filled(0)\n",
    "    found_mask = np.where(discbundles[yr].metricValues.mask & velocitybundles[yr].metricValues.mask,\n",
    "                          1, 0)\n",
    "    found_combined = ma.MaskedArray(data=found_data, mask=found_mask, fill_value=0)\n",
    "    md = metadata + ' Year %d: velocity + MOPS' %(yr)\n",
    "    combobundles[yr] = mmb.MoMetricBundle(mm.DiscoveryChancesMetric(), slicer=mos, \n",
    "                                          constraint=discbundles[yr].constraint, \n",
    "                                          runName=runName, metadata=md, summaryMetrics=summaryMetrics)\n",
    "    combobundles[yr].metricValues = found_combined\n",
    "    combobundles[yr].computeSummaryStats()\n",
    "\n",
    "# Plot completeness for 'both'.\n",
    "compbundles = []\n",
    "\n",
    "Hmark = 22\n",
    "Hidx = np.where(mos.Hrange == Hmark)[0]\n",
    "\n",
    "for yr in nyears:\n",
    "    completeness = combobundles[yr].summaryValues['CumulativeCompleteness'][0]\n",
    "    completenessma = ma.MaskedArray(data=completeness, mask=np.zeros(len(completeness)), fill_value=0)\n",
    "    cval = completeness[Hidx]\n",
    "    plotDict = {'albedo':albedo, 'label':'Year %d: %.0f%s' %(yr, cval*100, '%'), \n",
    "                'color':yearColors[yr], \n",
    "                'title':'%s Cumulative Completeness - velocity + MOPS' %(runName), \n",
    "                'ylabel':'Completeness <= H', 'yMin':0, 'yMax':1, 'Hmark':22}\n",
    "    mb = mmb.MoMetricBundle(ms.CumulativeCompletenessMetric(), slicer=mos, constraint=None,\n",
    "                            runName=runName, metadata='velocity+mops', plotDict=plotDict)\n",
    "    mb.metricValues = completenessma\n",
    "    compbundles.append(mb)\n",
    "ph.setMetricBundles(compbundles)\n",
    "ph.plot(plotFunc=moPlots.MetricVsH())"
   ]
  },
  {
   "cell_type": "code",
   "execution_count": null,
   "metadata": {
    "collapsed": false
   },
   "outputs": [],
   "source": [
    "# Cumulative completeness, as function of H (for each of nyear above) -- requiring 3 pairs in 30 nights.\n",
    "compbundles = []\n",
    "\n",
    "Hmark = 22\n",
    "Hidx = np.where(mos.Hrange == Hmark)[0]\n",
    "\n",
    "for yr in nyears:\n",
    "    completeness = longdiscbundles[yr].summaryValues['CumulativeCompleteness'][0]\n",
    "    completenessma = ma.MaskedArray(data=completeness, mask=np.zeros(len(completeness)), fill_value=0)\n",
    "    cval = completeness[Hidx]\n",
    "    plotDict = {'albedo':albedo, 'label':'Year %d: %.0f%s' %(yr, cval*100, '%'), \n",
    "                'color':yearColors[yr], \n",
    "                'title':'%s Cumulative Completeness - 3 pairs in 30 nights' %(runName), \n",
    "                'ylabel':'Completeness <= H', 'yMin':0, 'yMax':1, 'Hmark':22}\n",
    "    mb = mmb.MoMetricBundle(ms.CumulativeCompletenessMetric(), slicer=mos, constraint=None,\n",
    "                            runName=runName, metadata='3 pairs in 30 nights', plotDict=plotDict)\n",
    "    mb.metricValues = completenessma\n",
    "    compbundles.append(mb)\n",
    "ph.setMetricBundles(compbundles)\n",
    "ph.plot(plotFunc=moPlots.MetricVsH())"
   ]
  },
  {
   "cell_type": "code",
   "execution_count": null,
   "metadata": {
    "collapsed": false
   },
   "outputs": [],
   "source": [
    "# Cumulative completeness, as function of H (for each of nyear above) -- with Mario's magic discovery software.\n",
    "compbundles = []\n",
    "\n",
    "Hmark = 22\n",
    "Hidx = np.where(mos.Hrange == Hmark)[0]\n",
    "\n",
    "for yr in nyears:\n",
    "    completeness = magicbundles[yr].summaryValues['CumulativeCompleteness'][0]\n",
    "    completenessma = ma.MaskedArray(data=completeness, mask=np.zeros(len(completeness)), fill_value=0)\n",
    "    cval = completeness[Hidx]\n",
    "    plotDict = {'albedo':albedo, 'label':'Year %d: %.0f%s' %(yr, cval*100, '%'), \n",
    "                'color':yearColors[yr], \n",
    "                'title':'%s Cumulative Completeness - 6 obs in 60 nights' %(runName), \n",
    "                'ylabel':'Completeness <= H', 'yMin':0, 'yMax':1, 'Hmark':22}\n",
    "    mb = mmb.MoMetricBundle(ms.CumulativeCompletenessMetric(), slicer=mos, constraint=None,\n",
    "                            runName=runName, metadata='6 obs in 60 nights', plotDict=plotDict)\n",
    "    mb.metricValues = completenessma\n",
    "    compbundles.append(mb)\n",
    "ph.setMetricBundles(compbundles)\n",
    "ph.plot(plotFunc=moPlots.MetricVsH())"
   ]
  },
  {
   "cell_type": "code",
   "execution_count": null,
   "metadata": {
    "collapsed": false
   },
   "outputs": [],
   "source": [
    "# Cumulative completeness as we vary SNR required for discovery.\n",
    "compbundles = []\n",
    "\n",
    "Hmark = 22\n",
    "Hidx = np.where(mos.Hrange == Hmark)[0]\n",
    "\n",
    "cvals = np.zeros(len(snrList), float)\n",
    "\n",
    "for i, snr in enumerate(snrList):\n",
    "    completeness = snrbundles[snr].summaryValues['CumulativeCompleteness'][0]\n",
    "    completenessma = ma.MaskedArray(data=completeness, mask=np.zeros(len(completeness)), fill_value=0)\n",
    "    cval = completeness[Hidx]\n",
    "    cvals[i] = cval*100\n",
    "    plotDict = {'albedo':albedo, 'label':'SNR %.1f: %.0f%s' %(snr, cval*100, '%'), \n",
    "                'color':snrColors[snr], \n",
    "                'title':'%s Cumulative Completeness @ year 12' %(runName), \n",
    "                'ylabel':'Completeness <= H', 'yMin':0, 'yMax':1, 'Hmark':22}\n",
    "    mb = mmb.MoMetricBundle(ms.CumulativeCompletenessMetric(), slicer=mos, constraint=None,\n",
    "                            runName=runName, metadata='completeness with snr', plotDict=plotDict)\n",
    "    mb.metricValues = completenessma\n",
    "    compbundles.append(mb)\n",
    "ph.setMetricBundles(compbundles)\n",
    "ph.plot(plotFunc=moPlots.MetricVsH())"
   ]
  },
  {
   "cell_type": "code",
   "execution_count": null,
   "metadata": {
    "collapsed": false
   },
   "outputs": [],
   "source": [
    "plt.figure()\n",
    "plt.plot(snrList, cvals)\n",
    "plt.ylim(70, 90)\n",
    "plt.xlabel('SNR')\n",
    "plt.ylabel('Cumulative completeness at H<=22')\n",
    "plt.title('%s Completeness as function of SNR' %runName)\n",
    "plt.savefig(os.path.join(testDir, '%s_completenessSNR.pdf' %(runName)), format='pdf')"
   ]
  },
  {
   "cell_type": "code",
   "execution_count": null,
   "metadata": {
    "collapsed": true
   },
   "outputs": [],
   "source": []
  }
 ],
 "metadata": {
  "kernelspec": {
   "display_name": "Python 2",
   "language": "python",
   "name": "python2"
  },
  "language_info": {
   "codemirror_mode": {
    "name": "ipython",
    "version": 2
   },
   "file_extension": ".py",
   "mimetype": "text/x-python",
   "name": "python",
   "nbconvert_exporter": "python",
   "pygments_lexer": "ipython2",
   "version": "2.7.10"
  }
 },
 "nbformat": 4,
 "nbformat_minor": 0
}
