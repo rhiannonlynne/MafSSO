{
 "cells": [
  {
   "cell_type": "markdown",
   "metadata": {},
   "source": [
    "## Example of generating moving object observations, using `MoObs` class.\n",
    "\n",
    "This is the class that should be used to generate moving object observations. (it's beta, but it's better than early prototype). "
   ]
  },
  {
   "cell_type": "code",
   "execution_count": 1,
   "metadata": {
    "collapsed": false
   },
   "outputs": [],
   "source": [
    "import numpy as np\n",
    "import matplotlib.pyplot as plt\n",
    "%matplotlib inline\n",
    "\n",
    "from moo import MoObs"
   ]
  },
  {
   "cell_type": "markdown",
   "metadata": {},
   "source": [
    "Expanded version (I want to test the timing). For a very compact way to generate observations, see the `runMoObs` function in moo.py.\n",
    "\n",
    "Set up and read the orbits."
   ]
  },
  {
   "cell_type": "code",
   "execution_count": 13,
   "metadata": {
    "collapsed": true
   },
   "outputs": [],
   "source": [
    "orbitfile = 'GreenstreetPHAs.des'\n",
    "#orbitfile = 'pha20141031.des'\n",
    "moo = MoObs()\n",
    "moo.readOrbits(orbitfile)"
   ]
  },
  {
   "cell_type": "code",
   "execution_count": 14,
   "metadata": {
    "collapsed": false
   },
   "outputs": [
    {
     "name": "stdout",
     "output_type": "stream",
     "text": [
      "('objId', 'q', 'e', 'inc', 'node', 'argPeri', 'tPeri', 'epoch', 'H', 'g', 'a', 'meanAnom')\n",
      "[49353 49353 49353 ..., 49353 49353 49353]\n"
     ]
    }
   ],
   "source": [
    "# See what we've got in the orbit data.\n",
    "print moo.orbits.dtype.names\n",
    "print moo.orbits.epoch"
   ]
  },
  {
   "cell_type": "markdown",
   "metadata": {},
   "source": [
    "Generate ephemerides for ten years, with spacing of 2 hours, then generate interpolation functions."
   ]
  },
  {
   "cell_type": "code",
   "execution_count": 16,
   "metadata": {
    "collapsed": true
   },
   "outputs": [],
   "source": [
    "moo.setTimes(timestep = 2./24., ndays=365*10, timestart = 49353.0)\n",
    "moo.setupOorb()"
   ]
  },
  {
   "cell_type": "code",
   "execution_count": 18,
   "metadata": {
    "collapsed": false
   },
   "outputs": [
    {
     "name": "stdout",
     "output_type": "stream",
     "text": [
      "1 loops, best of 3: 7.3 s per loop\n"
     ]
    }
   ],
   "source": [
    "%%timeit\n",
    "for sso in moo.orbits[0:1]:\n",
    "    ephs = moo.generateEphs(sso)\n",
    "    interpfuncs = moo.interpolateEphs(ephs)"
   ]
  },
  {
   "cell_type": "markdown",
   "metadata": {},
   "source": [
    "Getting 21.4s/loop (3 objects) and 24.8s/loop (3 objects). This is comparable to previous estimates, where it was 8s/object for ten years. For objects more distant than NEOs, we can increase the timestep. \n",
    "\n",
    "As seen in the [Ephemeris Generation](./Ephemeris Generation.ipynb) notebook, the ephemeris accuracy for 2 hour timespacing + linear interpolation for NEOs is generally better than 3e-5 degrees (0.1\") in position, and 8.3e-6 (\"/s) in velocity. The solar elongation calculation for some NEOs seems to be faulty -- or at least, not agree with opsim (and I doubt opsim is really observing things with very low solar elongation of <20deg). That needs a little more investigation, but for now - use opsim's solar elongation values."
   ]
  },
  {
   "cell_type": "markdown",
   "metadata": {},
   "source": [
    "---\n",
    "\n",
    "Add in actual simdata series of observations and matching moving object to the fov."
   ]
  },
  {
   "cell_type": "code",
   "execution_count": 23,
   "metadata": {
    "collapsed": false
   },
   "outputs": [
    {
     "name": "stderr",
     "output_type": "stream",
     "text": [
      "/Users/lynnej/anaconda/lib/python2.7/site-packages/sqlalchemy/sql/elements.py:3758: SAWarning: Textual SQL expression '' should be explicitly declared as text('') (this warning may be suppressed after 10 occurrences)\n",
      "  {\"expr\": util.ellipses_string(element)})\n"
     ]
    }
   ],
   "source": [
    "from lsst.sims.maf.db import OpsimDatabase\n",
    "\n",
    "opsdb = OpsimDatabase('/Users/lynnej/opsim/db/enigma_1189_sqlite.db')\n",
    "\n",
    "# What columns from opsim do you want to have available when doing later 'metric' generation?\n",
    "dbcols = ['expMJD', 'night', 'fieldRA', 'fieldDec', 'rotSkyPos', 'filter',\n",
    "          'finSeeing', 'fiveSigmaDepth', 'visitExpTime', 'solarElong']\n",
    "simdata = opsdb.fetchMetricData(dbcols, sqlconstraint='')"
   ]
  },
  {
   "cell_type": "code",
   "execution_count": 38,
   "metadata": {
    "collapsed": false
   },
   "outputs": [
    {
     "name": "stdout",
     "output_type": "stream",
     "text": [
      "1 loops, best of 3: 30.5 s per loop\n"
     ]
    }
   ],
   "source": [
    "%%timeit\n",
    "outfileName = 'test_out.txt'\n",
    "del moo.outfile \n",
    "useCamera=True\n",
    "# Limit this example to only calculating positions for the first few objects.\n",
    "for sso in moo.orbits[0:3]:\n",
    "    ephs = moo.generateEphs(sso)\n",
    "    interpfuncs = moo.interpolateEphs(ephs)\n",
    "    # This is how you change the matching against the FOV. \n",
    "    #  If useCamera=True, then rFov is irrelevant - the silicon footprint is used.\n",
    "    #  If useCamera=False, then rFov is used instead, as a circular footprint. \n",
    "    idxObs = moo.ssoInFov(interpfuncs, simdata, rFov=np.radians(1.75), useCamera=useCamera)\n",
    "    moo.writeObs(sso['objId'], interpfuncs, simdata, idxObs, outfileName=outfileName)"
   ]
  },
  {
   "cell_type": "markdown",
   "metadata": {},
   "source": [
    "With the camera on, writing to disk (desktop = SSD), this took 30s for 3 objects. With camera off, this took 24s for 3 objects. "
   ]
  },
  {
   "cell_type": "code",
   "execution_count": 34,
   "metadata": {
    "collapsed": false
   },
   "outputs": [
    {
     "name": "stdout",
     "output_type": "stream",
     "text": [
      "#objId delta ra dec magV time dradt ddecdt phase solarelon velocity obsHistID expMJD night fieldRA fieldDec rotSkyPos filter finSeeing fiveSigmaDepth visitExpTime solarElong dmagColor dmagTrail dmagDetect \r\n",
      "1 16.7655846845 138.743455494 16.4421927808 371.931325489 49360.244826 -0.0296064149448 0.00930690723584 1.51658958398 151.662413843 0.0310348153406 3320 49360.244826 7 2.426603 0.261673 1.787356 g 0.814579 24.641303 30.0 150.868114 0.302320621737 0.00088603843245 0.000516878877234 \r\n",
      "1 16.7655211962 138.743151539 16.4422844454 371.931268622 49360.254681 -0.0296218314226 0.00929532713063 1.51607368149 151.672882918 0.0310460399797 3342 49360.254681 7 2.426603 0.261673 1.781385 g 0.794688 24.668984 30.0 150.878281 0.302320621737 0.000930346881922 0.00054345720931 \r\n",
      "1 16.7649565096 138.740406268 16.4431050476 371.930756405 49360.343518 -0.0296186423499 0.00918606339935 1.51141991249 151.767095804 0.0310104469287 3537 49360.343518 7 2.426603 0.261673 5.014768 g 0.725173 24.632871 30.0 150.969747 0.302320621737 0.00110889416479 0.000651082437703 \r\n",
      "1 16.7327511263 138.557749315 16.499046532 371.896570678 49366.1385 -0.0320435714253 0.0101669256814 1.20398485956 157.853746668 0.0336179006301 7452 49366.1385 13 2.426603 0.261673 2.17439 z 1.344371 22.325043 30.0 156.870795 -0.298075537869 0.000388872156994 0.00022272935178 \r\n",
      "1 16.7199018357 138.457731718 16.5294323991 371.877999912 49369.128158 -0.0331407972698 0.010470219599 1.03972115018 160.998847996 0.0347555037724 9629 49369.128158 16 2.426603 0.261673 1.951921 z 1.377286 22.242514 30.0 159.913888 -0.298075537869 0.000395877937214 0.000226815025584 \r\n",
      "1 16.719900049 138.45771637 16.5294370507 371.877997071 49369.128602 -0.0331425867005 0.0104698408783 1.03969626627 160.999320753 0.034757095811 9630 49369.128602 16 2.397614 0.308861 1.985806 z 1.397713 22.217949 30.0 162.210318 -0.298075537869 0.000384628313487 0.0002202553614 \r\n",
      "1 16.7068141744 138.318657118 16.5714429264 371.852081369 49373.137514 -0.0344286425228 0.0107685058936 0.814647016436 165.218286884 0.0360735164422 12676 49373.137514 20 2.397614 0.308861 1.450966 z 1.352537 22.144061 30.0 166.277384 -0.298075537869 0.000441317582897 0.000253361686832 \r\n",
      "1 16.7067449761 138.317776633 16.5717075211 371.851917058 49373.16205 -0.0345196979554 0.0107451212454 0.813240953779 165.244414235 0.036153404542 12730 49373.16205 20 2.397614 0.308861 1.438044 z 0.922527 22.664988 30.0 166.30255 -0.298075537869 0.000936032006591 0.000546871264691 \r\n",
      "1 16.6951396458 137.989334072 16.6699082329 371.789044 49382.209379 -0.0362401149466 0.0110152988423 0.291878398994 174.755438378 0.0378772570952 18918 49382.209379 29 2.397614 0.308861 2.430822 z 1.080694 21.745605 30.0 175.377123 -0.298075537869 0.000753094475505 0.000437461872139 \r\n"
     ]
    }
   ],
   "source": [
    "# See what this output file looks like. \n",
    "# This file stores the moving object observations - even if the object would have been too faint!\n",
    "!head test_out.txt"
   ]
  },
  {
   "cell_type": "code",
   "execution_count": null,
   "metadata": {
    "collapsed": true
   },
   "outputs": [],
   "source": []
  }
 ],
 "metadata": {
  "kernelspec": {
   "display_name": "Python 2",
   "language": "python",
   "name": "python2"
  },
  "language_info": {
   "codemirror_mode": {
    "name": "ipython",
    "version": 2
   },
   "file_extension": ".py",
   "mimetype": "text/x-python",
   "name": "python",
   "nbconvert_exporter": "python",
   "pygments_lexer": "ipython2",
   "version": "2.7.10"
  }
 },
 "nbformat": 4,
 "nbformat_minor": 0
}
