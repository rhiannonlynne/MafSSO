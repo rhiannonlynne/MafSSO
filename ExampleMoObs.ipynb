{
 "cells": [
  {
   "cell_type": "markdown",
   "metadata": {},
   "source": [
    "## Example of generating moving object observations, using `MoObs` class.\n",
    "\n",
    "This is the class that should be used to generate moving object observations. (it's beta, but it's better than early prototype). "
   ]
  },
  {
   "cell_type": "code",
   "execution_count": 1,
   "metadata": {
    "collapsed": false
   },
   "outputs": [],
   "source": [
    "import numpy as np\n",
    "import matplotlib.pyplot as plt\n",
    "%matplotlib inline\n",
    "\n",
    "from moObs import MoObs"
   ]
  },
  {
   "cell_type": "markdown",
   "metadata": {},
   "source": [
    "Expanded version (I want to test the timing). For a very compact way to generate observations, see the `runMoObs` function in moo.py.\n",
    "\n",
    "Set up and read the orbits."
   ]
  },
  {
   "cell_type": "code",
   "execution_count": 2,
   "metadata": {
    "collapsed": true
   },
   "outputs": [],
   "source": [
    "#orbitfile = 'GreenstreetPHAs.des'\n",
    "orbitfile = 'pha20141031.des'\n",
    "moo = MoObs()\n",
    "moo.readOrbits(orbitfile)"
   ]
  },
  {
   "cell_type": "code",
   "execution_count": 3,
   "metadata": {
    "collapsed": false
   },
   "outputs": [
    {
     "name": "stdout",
     "output_type": "stream",
     "text": [
      "('objId', 'q', 'e', 'inc', 'node', 'argPeri', 'tPeri', 'epoch', 'H', 'g', 'a', 'meanAnom')\n",
      "[ 49353.16  49353.16  49353.16 ...,  49353.16  49353.16  49353.16]\n"
     ]
    }
   ],
   "source": [
    "# See what we've got in the orbit data.\n",
    "print moo.orbits.dtype.names\n",
    "print moo.orbits.epoch"
   ]
  },
  {
   "cell_type": "markdown",
   "metadata": {},
   "source": [
    "Generate ephemerides for ten years, with spacing of 2 hours, then generate interpolation functions."
   ]
  },
  {
   "cell_type": "code",
   "execution_count": 4,
   "metadata": {
    "collapsed": true
   },
   "outputs": [],
   "source": [
    "moo.setTimes(timestep = 2./24., ndays=365*10, timestart = 49353.0)\n",
    "moo.setupOorb()"
   ]
  },
  {
   "cell_type": "code",
   "execution_count": 5,
   "metadata": {
    "collapsed": false
   },
   "outputs": [
    {
     "name": "stdout",
     "output_type": "stream",
     "text": [
      "1 loops, best of 3: 8.34 s per loop\n"
     ]
    }
   ],
   "source": [
    "%%timeit\n",
    "for sso in moo.orbits[0:1]:\n",
    "    ephs = moo.generateEphs(sso)\n",
    "    interpfuncs = moo.interpolateEphs(ephs)"
   ]
  },
  {
   "cell_type": "markdown",
   "metadata": {},
   "source": [
    "Getting 21.4s/loop (3 objects) and 24.8s/loop (3 objects). This is comparable to previous estimates, where it was 8s/object for ten years. For objects more distant than NEOs, we can increase the timestep. \n",
    "\n",
    "As seen in the [Ephemeris Generation](./Ephemeris Generation.ipynb) notebook, the ephemeris accuracy for 2 hour timespacing + linear interpolation for NEOs is generally better than 3e-5 degrees (0.1\") in position, and 8.3e-6 (\"/s) in velocity. The solar elongation calculation for some NEOs seems to be faulty -- or at least, not agree with opsim (and I doubt opsim is really observing things with very low solar elongation of <20deg). That needs a little more investigation, but for now - use opsim's solar elongation values."
   ]
  },
  {
   "cell_type": "markdown",
   "metadata": {},
   "source": [
    "---\n",
    "\n",
    "Add in actual simdata series of observations and matching moving object to the fov."
   ]
  },
  {
   "cell_type": "code",
   "execution_count": 5,
   "metadata": {
    "collapsed": false
   },
   "outputs": [
    {
     "name": "stderr",
     "output_type": "stream",
     "text": [
      "/Users/lynnej/anaconda/lib/python2.7/site-packages/sqlalchemy/sql/elements.py:3758: SAWarning: Textual SQL expression '' should be explicitly declared as text('') (this warning may be suppressed after 10 occurrences)\n",
      "  {\"expr\": util.ellipses_string(element)})\n"
     ]
    }
   ],
   "source": [
    "from lsst.sims.maf.db import OpsimDatabase\n",
    "\n",
    "opsdb = OpsimDatabase('/Users/lynnej/opsim/db/enigma_1189_sqlite.db')\n",
    "\n",
    "# What columns from opsim do you want to have available when doing later 'metric' generation?\n",
    "dbcols = ['expMJD', 'night', 'fieldRA', 'fieldDec', 'rotSkyPos', 'filter',\n",
    "          'finSeeing', 'fiveSigmaDepth', 'visitExpTime', 'solarElong']\n",
    "simdata = opsdb.fetchMetricData(dbcols, sqlconstraint='')"
   ]
  },
  {
   "cell_type": "code",
   "execution_count": 7,
   "metadata": {
    "collapsed": false
   },
   "outputs": [
    {
     "name": "stdout",
     "output_type": "stream",
     "text": [
      "1 loops, best of 3: 1min 45s per loop\n"
     ]
    }
   ],
   "source": [
    "%%timeit\n",
    "outfileName = 'test_out.txt'\n",
    "try:\n",
    "    del moo.outfile\n",
    "except AttributeError:\n",
    "    pass\n",
    "useCamera=True\n",
    "# Limit this example to only calculating positions for the first few objects.\n",
    "for sso in moo.orbits[0:10]:\n",
    "    ephs = moo.generateEphs(sso)\n",
    "    interpfuncs = moo.interpolateEphs(ephs)\n",
    "    # This is how you change the matching against the FOV. \n",
    "    #  If useCamera=True, then rFov is irrelevant - the silicon footprint is used.\n",
    "    #  If useCamera=False, then rFov is used instead, as a circular footprint. \n",
    "    idxObs = moo.ssoInFov(interpfuncs, simdata, rFov=np.radians(1.75), useCamera=useCamera)\n",
    "    moo.writeObs(sso['objId'], interpfuncs, simdata, idxObs, outfileName=outfileName)"
   ]
  },
  {
   "cell_type": "markdown",
   "metadata": {},
   "source": [
    "With the camera on, writing to disk (desktop = SSD), this took 30s for 3 objects. For 10 objects, it was 2min+15s for the GS PHAs; for the 'phas' PHAs, only 1:45. With camera off, this took 24s for 3 objects. "
   ]
  },
  {
   "cell_type": "code",
   "execution_count": 8,
   "metadata": {
    "collapsed": false
   },
   "outputs": [
    {
     "name": "stdout",
     "output_type": "stream",
     "text": [
      "objId delta ra dec magV time dradt ddecdt phase solarelon velocity obsHistID expMJD night fieldRA fieldDec rotSkyPos filter finSeeing fiveSigmaDepth visitExpTime solarElong appMag dmagColor dmagTrail dmagDetect \r\n",
      "0 0.407789951521 178.554053942 7.85368879567 20.9694487512 49540.020904 2.52860798778 -1.7485783854 85.5255554595 70.905500509 3.07431107273 143217 49540.020904 187 3.141593 0.128524 4.063771 i 1.030507 23.394825 30.0 72.496338 20.6780969655 -0.291351785733 0.593583381506 1.04387369879 \r\n",
      "0 0.407799676903 178.557464517 7.85135351862 20.9694229 49540.02224 2.52867446802 -1.74853616271 85.5223530747 70.9082229766 3.07434176401 143220 49540.02224 187 3.087533 0.127822 4.095892 i 0.955558 23.445884 30.0 69.651283 20.6780711143 -0.291351785733 0.626285340723 1.11462854188 \r\n",
      "0 0.535782846221 200.57039727 -7.46103903157 21.1868442003 49551.046682 1.48019633703 -1.01948682577 64.9531469912 86.5175503045 1.79731591335 155017 49551.046682 198 3.499825 -0.114112 4.46024 z 1.015369 22.018934 30.0 86.211137 20.8887686624 -0.298075537869 0.387891943404 0.606481419934 \r\n",
      "0 0.664376440732 210.695184536 -13.9635654466 21.5848022075 49558.967844 1.03327055292 -0.651569093729 56.4107823405 90.5704445204 1.22155354892 163209 49558.967844 206 3.690123 -0.263957 3.592248 y 1.502535 20.617902 30.0 91.709672 21.2822387111 -0.30256349639 0.167016646895 0.195593926653 \r\n",
      "0 1.09346199284 228.996794053 -23.1261672825 22.7040306212 49582.055036 0.558375447094 -0.236946631098 43.8169517985 87.7753571024 0.606572229704 183313 49582.055036 229 3.984755 -0.396222 4.936402 z 0.628552 22.636733 30.0 87.129406 22.4059550833 -0.298075537869 0.205785811709 0.258921923985 \r\n",
      "0 1.09369515882 229.004101418 -23.1290268286 22.704537399 49582.067089 0.558869974257 -0.236579860923 43.8126399311 87.7709580795 0.60688367486 183339 49582.067089 229 3.984755 -0.396222 4.956425 z 0.584232 22.681497 30.0 87.117754 22.4064618611 -0.298075537869 0.22417948881 0.290649363295 \r\n",
      "0 1.09377387385 229.006568329 -23.1299921894 22.7047084833 49582.071158 0.55903692282 -0.236456042135 43.8111842779 87.7694730033 0.606988816346 183348 49582.071158 229 3.984755 -0.396222 4.956434 z 0.573467 22.689087 30.0 87.113818 22.4066329454 -0.298075537869 0.229036579295 0.299191337411 \r\n",
      "0 1.28607841347 234.797827709 -25.1844496354 23.0879839561 49592.074366 0.491161130984 -0.172161281637 40.4719697962 83.8033295737 0.520460998181 190144 49592.074366 239 4.121087 -0.426137 4.984918 r 0.764003 24.394729 30.0 84.867364 22.9156770966 -0.172306859497 0.132839341136 0.144325025863 \r\n",
      "0 1.36185261185 236.933889889 -25.8425379377 23.2228307937 49596.030005 0.471679079986 -0.154613637757 39.2846439222 82.0272257391 0.496375217671 193779 49596.030005 243 4.121087 -0.426137 4.601843 r 0.769431 24.483011 30.0 81.055877 23.0505239342 -0.172306859497 0.123456669659 0.131085773275 \r\n"
     ]
    }
   ],
   "source": [
    "# See what this output file looks like. \n",
    "# This file stores the moving object observations - even if the object would have been too faint!\n",
    "!head test_out.txt"
   ]
  },
  {
   "cell_type": "code",
   "execution_count": null,
   "metadata": {
    "collapsed": true
   },
   "outputs": [],
   "source": []
  }
 ],
 "metadata": {
  "kernelspec": {
   "display_name": "Python 2",
   "language": "python",
   "name": "python2"
  },
  "language_info": {
   "codemirror_mode": {
    "name": "ipython",
    "version": 2
   },
   "file_extension": ".py",
   "mimetype": "text/x-python",
   "name": "python",
   "nbconvert_exporter": "python",
   "pygments_lexer": "ipython2",
   "version": "2.7.10"
  }
 },
 "nbformat": 4,
 "nbformat_minor": 0
}
